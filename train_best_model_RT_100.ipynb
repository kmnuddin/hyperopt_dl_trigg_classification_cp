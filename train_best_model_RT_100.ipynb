{
 "cells": [
  {
   "cell_type": "code",
   "execution_count": 1,
   "metadata": {},
   "outputs": [],
   "source": [
    "from utils.helper import Helper\n",
    "from neural_net import build_and_train\n",
    "import numpy as np\n",
    "from sklearn.metrics import classification_report, confusion_matrix\n",
    "import matplotlib.pyplot as plt\n",
    "import seaborn as sn\n",
    "from matplotlib import cm\n",
    "from tensorflow.keras.models import load_model"
   ]
  },
  {
   "cell_type": "markdown",
   "metadata": {},
   "source": [
    "## RT-100"
   ]
  },
  {
   "cell_type": "code",
   "execution_count": 2,
   "metadata": {},
   "outputs": [
    {
     "name": "stdout",
     "output_type": "stream",
     "text": [
      "Found 42515 images belonging to 3 classes.\n",
      "Found 10629 images belonging to 3 classes.\n"
     ]
    }
   ],
   "source": [
    "h = Helper('topomaps_RT_100/train/combined', 'topomaps_RT_100/test/combined', 'results/RT_100')\n",
    "\n",
    "train_it, test_it = h.construct_data_generator(target_size=(128,128))"
   ]
  },
  {
   "cell_type": "code",
   "execution_count": 8,
   "metadata": {},
   "outputs": [],
   "source": [
    "best_space_model = h.load_best_hyperspace()"
   ]
  },
  {
   "cell_type": "code",
   "execution_count": 9,
   "metadata": {},
   "outputs": [
    {
     "data": {
      "text/plain": [
       "{'activation': 'elu',\n",
       " 'batch_size': 100.0,\n",
       " 'conv_dropout_drop_proba': 0.3072583126155909,\n",
       " 'conv_hiddn_units_mult': 0.7655612652817378,\n",
       " 'conv_kernel_size': 3.0,\n",
       " 'conv_pool_res_start_idx': 1.0,\n",
       " 'epochs': 60.0,\n",
       " 'fc_dropout_drop_proba': 0.12278806206422954,\n",
       " 'fc_units_1_mult': 0.6510004723476623,\n",
       " 'first_conv': None,\n",
       " 'l2_weight_reg_mult': 0.37747519746406716,\n",
       " 'lr_rate_mult': 1.236441110794273,\n",
       " 'nb_conv_pool_layers': 3,\n",
       " 'one_more_fc': None,\n",
       " 'optimizer': 'RMSprop',\n",
       " 'pooling_type': 'all_conv',\n",
       " 'res_conv_kernel_size': 4.0,\n",
       " 'residual': None,\n",
       " 'use_BN': True}"
      ]
     },
     "execution_count": 9,
     "metadata": {},
     "output_type": "execute_result"
    }
   ],
   "source": [
    "best_space_model"
   ]
  },
  {
   "cell_type": "code",
   "execution_count": 3,
   "metadata": {},
   "outputs": [
    {
     "name": "stdout",
     "output_type": "stream",
     "text": [
      "Model: \"model\"\n",
      "_________________________________________________________________\n",
      "Layer (type)                 Output Shape              Param #   \n",
      "=================================================================\n",
      "input_1 (InputLayer)         [(None, 128, 128, 3)]     0         \n",
      "_________________________________________________________________\n",
      "conv2d (Conv2D)              (None, 128, 128, 30)      840       \n",
      "_________________________________________________________________\n",
      "batch_normalization (BatchNo (None, 128, 128, 30)      120       \n",
      "_________________________________________________________________\n",
      "conv2d_1 (Conv2D)            (None, 64, 64, 30)        8130      \n",
      "_________________________________________________________________\n",
      "batch_normalization_1 (Batch (None, 64, 64, 30)        120       \n",
      "_________________________________________________________________\n",
      "dropout (Dropout)            (None, 64, 64, 30)        0         \n",
      "_________________________________________________________________\n",
      "conv2d_2 (Conv2D)            (None, 64, 64, 60)        16260     \n",
      "_________________________________________________________________\n",
      "batch_normalization_2 (Batch (None, 64, 64, 60)        240       \n",
      "_________________________________________________________________\n",
      "conv2d_3 (Conv2D)            (None, 32, 32, 60)        32460     \n",
      "_________________________________________________________________\n",
      "batch_normalization_3 (Batch (None, 32, 32, 60)        240       \n",
      "_________________________________________________________________\n",
      "dropout_1 (Dropout)          (None, 32, 32, 60)        0         \n",
      "_________________________________________________________________\n",
      "conv2d_4 (Conv2D)            (None, 32, 32, 120)       64920     \n",
      "_________________________________________________________________\n",
      "batch_normalization_4 (Batch (None, 32, 32, 120)       480       \n",
      "_________________________________________________________________\n",
      "conv2d_5 (Conv2D)            (None, 16, 16, 120)       129720    \n",
      "_________________________________________________________________\n",
      "batch_normalization_5 (Batch (None, 16, 16, 120)       480       \n",
      "_________________________________________________________________\n",
      "dropout_2 (Dropout)          (None, 16, 16, 120)       0         \n",
      "_________________________________________________________________\n",
      "flatten (Flatten)            (None, 30720)             0         \n",
      "_________________________________________________________________\n",
      "dense (Dense)                (None, 651)               19999371  \n",
      "_________________________________________________________________\n",
      "dropout_3 (Dropout)          (None, 651)               0         \n",
      "_________________________________________________________________\n",
      "dense_1 (Dense)              (None, 3)                 1956      \n",
      "=================================================================\n",
      "Total params: 20,255,337\n",
      "Trainable params: 20,254,497\n",
      "Non-trainable params: 840\n",
      "_________________________________________________________________\n"
     ]
    }
   ],
   "source": [
    "model = load_model('models/f58b4_RT.h5')\n",
    "model.summary()"
   ]
  },
  {
   "cell_type": "code",
   "execution_count": 4,
   "metadata": {},
   "outputs": [
    {
     "data": {
      "text/plain": [
       "[0.26616537961221876, 0.9464672]"
      ]
     },
     "execution_count": 4,
     "metadata": {},
     "output_type": "execute_result"
    }
   ],
   "source": [
    "y_pred = model.predict_generator(test_it)\n",
    "acc = model.evaluate_generator(test_it)\n",
    "acc"
   ]
  },
  {
   "cell_type": "code",
   "execution_count": 5,
   "metadata": {},
   "outputs": [],
   "source": [
    "y_pred = np.argmax(y_pred, axis=1)\n",
    "\n",
    "y_true = h.y_true"
   ]
  },
  {
   "cell_type": "code",
   "execution_count": 6,
   "metadata": {},
   "outputs": [
    {
     "name": "stdout",
     "output_type": "stream",
     "text": [
      "              precision    recall  f1-score   support\n",
      "\n",
      "           0       0.94      0.96      0.95      1241\n",
      "           1       0.95      0.95      0.95      5021\n",
      "           2       0.94      0.94      0.94      4367\n",
      "\n",
      "    accuracy                           0.95     10629\n",
      "   macro avg       0.95      0.95      0.95     10629\n",
      "weighted avg       0.95      0.95      0.95     10629\n",
      "\n"
     ]
    }
   ],
   "source": [
    "print(classification_report(y_true, y_pred))"
   ]
  },
  {
   "cell_type": "code",
   "execution_count": 24,
   "metadata": {},
   "outputs": [
    {
     "data": {
      "text/plain": [
       "array([[0.94299287, 0.00519169, 0.00550711],\n",
       "       [0.01741884, 0.951877  , 0.05323543],\n",
       "       [0.03958828, 0.04293131, 0.94125746]])"
      ]
     },
     "execution_count": 24,
     "metadata": {},
     "output_type": "execute_result"
    }
   ],
   "source": [
    "confusion_matrix(y_true, y_pred, normalize='pred')"
   ]
  },
  {
   "cell_type": "code",
   "execution_count": 8,
   "metadata": {},
   "outputs": [
    {
     "data": {
      "image/png": "[encoded data removed]",
      "text/plain": [
       "<Figure size 432x288 with 2 Axes>"
      ]
     },
     "metadata": {
      "needs_background": "light"
     },
     "output_type": "display_data"
    }
   ],
   "source": [
    "ax= plt.subplot()\n",
    "sn.heatmap(confusion_matrix(y_true, y_pred, normalize='pred'), \n",
    "           annot=True, fmt='.2g', cmap=cm.Blues, ax = ax, cbar=True)\n",
    "\n",
    "ax.set_xlabel('Predicted labels');ax.set_ylabel('True labels'); \n",
    "ax.set_title('Confusion Matrix'); \n",
    "ax.xaxis.set_ticklabels(['slow', 'fast', 'medium']); ax.yaxis.set_ticklabels(['slow', 'fast', 'medium']);"
   ]
  },
  {
   "cell_type": "markdown",
   "metadata": {},
   "source": [
    "## RT-30"
   ]
  },
  {
   "cell_type": "code",
   "execution_count": 9,
   "metadata": {},
   "outputs": [
    {
     "name": "stdout",
     "output_type": "stream",
     "text": [
      "Found 56404 images belonging to 3 classes.\n",
      "Found 14101 images belonging to 3 classes.\n"
     ]
    }
   ],
   "source": [
    "h = Helper('topomaps_RT/train/combined', 'topomaps_RT/test/combined', 'results/RT_100')\n",
    "\n",
    "train_it, test_it = h.construct_data_generator(target_size=(128,128))"
   ]
  },
  {
   "cell_type": "code",
   "execution_count": 3,
   "metadata": {},
   "outputs": [
    {
     "data": {
      "text/plain": [
       "{'activation': 'elu',\n",
       " 'batch_size': 100.0,\n",
       " 'conv_dropout_drop_proba': 0.3072583126155909,\n",
       " 'conv_hiddn_units_mult': 0.7655612652817378,\n",
       " 'conv_kernel_size': 3.0,\n",
       " 'conv_pool_res_start_idx': 1.0,\n",
       " 'epochs': 60.0,\n",
       " 'fc_dropout_drop_proba': 0.12278806206422954,\n",
       " 'fc_units_1_mult': 0.6510004723476623,\n",
       " 'first_conv': None,\n",
       " 'l2_weight_reg_mult': 0.37747519746406716,\n",
       " 'lr_rate_mult': 1.236441110794273,\n",
       " 'nb_conv_pool_layers': 3,\n",
       " 'one_more_fc': None,\n",
       " 'optimizer': 'RMSprop',\n",
       " 'pooling_type': 'all_conv',\n",
       " 'res_conv_kernel_size': 4.0,\n",
       " 'residual': None,\n",
       " 'use_BN': True}"
      ]
     },
     "execution_count": 3,
     "metadata": {},
     "output_type": "execute_result"
    }
   ],
   "source": [
    "best_space_model = h.load_best_hyperspace()\n",
    "best_space_model"
   ]
  },
  {
   "cell_type": "code",
   "execution_count": 4,
   "metadata": {},
   "outputs": [
    {
     "name": "stdout",
     "output_type": "stream",
     "text": [
      "Found 56404 images belonging to 3 classes.\n",
      "Found 14101 images belonging to 3 classes.\n",
      "Hyperspace:\n",
      "{'activation': 'elu', 'batch_size': 100.0, 'conv_dropout_drop_proba': 0.3072583126155909, 'conv_hiddn_units_mult': 0.7655612652817378, 'conv_kernel_size': 3.0, 'conv_pool_res_start_idx': 1.0, 'epochs': 60.0, 'fc_dropout_drop_proba': 0.12278806206422954, 'fc_units_1_mult': 0.6510004723476623, 'first_conv': None, 'l2_weight_reg_mult': 0.37747519746406716, 'lr_rate_mult': 1.236441110794273, 'nb_conv_pool_layers': 3, 'one_more_fc': None, 'optimizer': 'RMSprop', 'pooling_type': 'all_conv', 'res_conv_kernel_size': 4.0, 'residual': None, 'use_BN': True}\n",
      "0\n",
      "30\n",
      "(None, 128, 128, 3)\n",
      "(None, 128, 128, 30)\n",
      "(None, 64, 64, 30)\n",
      "1\n",
      "60\n",
      "(None, 64, 64, 30)\n",
      "(None, 64, 64, 60)\n",
      "(None, 32, 32, 60)\n",
      "2\n",
      "120\n",
      "(None, 32, 32, 60)\n",
      "(None, 32, 32, 120)\n",
      "(None, 16, 16, 120)\n",
      "(None, 30720)\n",
      "(None, 651)\n",
      "Model's weights will be saved to: models/3fece_RT.h5\n",
      "Tensorboard log files will be saved to: TensorBoard/3fece\n",
      "Epoch 1/60\n",
      "565/565 [==============================] - 147s 261ms/step - loss: 10.8956 - accuracy: 0.3297 - val_loss: 11.3573 - val_accuracy: 0.2991\n",
      "Epoch 2/60\n",
      "565/565 [==============================] - 149s 265ms/step - loss: 2.8032 - accuracy: 0.4257 - val_loss: 0.8816 - val_accuracy: 0.5833\n",
      "Epoch 3/60\n",
      "565/565 [==============================] - 144s 256ms/step - loss: 0.8380 - accuracy: 0.6190 - val_loss: 0.7665 - val_accuracy: 0.6691\n",
      "Epoch 4/60\n",
      "565/565 [==============================] - 143s 252ms/step - loss: 0.7406 - accuracy: 0.6849 - val_loss: 0.8397 - val_accuracy: 0.6738\n",
      "Epoch 5/60\n",
      "565/565 [==============================] - 143s 253ms/step - loss: 0.6926 - accuracy: 0.7218 - val_loss: 0.7080 - val_accuracy: 0.7246\n",
      "Epoch 6/60\n",
      "565/565 [==============================] - 142s 250ms/step - loss: 0.6664 - accuracy: 0.7428 - val_loss: 0.6990 - val_accuracy: 0.7338\n",
      "Epoch 7/60\n",
      "565/565 [==============================] - 141s 250ms/step - loss: 0.6411 - accuracy: 0.7588 - val_loss: 0.6557 - val_accuracy: 0.7577\n",
      "Epoch 8/60\n",
      "565/565 [==============================] - 141s 249ms/step - loss: 0.6294 - accuracy: 0.7699 - val_loss: 0.6330 - val_accuracy: 0.7758\n",
      "Epoch 9/60\n",
      "565/565 [==============================] - 140s 247ms/step - loss: 0.6134 - accuracy: 0.7807 - val_loss: 0.7011 - val_accuracy: 0.7543\n",
      "Epoch 10/60\n",
      "565/565 [==============================] - 140s 248ms/step - loss: 0.6010 - accuracy: 0.7866 - val_loss: 0.6438 - val_accuracy: 0.7693\n",
      "Epoch 11/60\n",
      "565/565 [==============================] - 142s 251ms/step - loss: 0.5889 - accuracy: 0.7954 - val_loss: 0.6388 - val_accuracy: 0.7823\n",
      "Epoch 12/60\n",
      "565/565 [==============================] - 141s 249ms/step - loss: 0.5795 - accuracy: 0.8042 - val_loss: 0.6222 - val_accuracy: 0.7915\n",
      "Epoch 13/60\n",
      "565/565 [==============================] - 142s 250ms/step - loss: 0.5699 - accuracy: 0.8110 - val_loss: 0.6264 - val_accuracy: 0.7914\n",
      "Epoch 14/60\n",
      "565/565 [==============================] - 141s 249ms/step - loss: 0.5594 - accuracy: 0.8188 - val_loss: 0.6350 - val_accuracy: 0.7889\n",
      "Epoch 15/60\n",
      "565/565 [==============================] - 142s 252ms/step - loss: 0.5591 - accuracy: 0.8210 - val_loss: 0.6115 - val_accuracy: 0.7965\n",
      "Epoch 16/60\n",
      "565/565 [==============================] - 140s 249ms/step - loss: 0.5512 - accuracy: 0.8261 - val_loss: 0.6566 - val_accuracy: 0.7838\n",
      "Epoch 17/60\n",
      "565/565 [==============================] - 141s 250ms/step - loss: 0.5437 - accuracy: 0.8300 - val_loss: 0.6669 - val_accuracy: 0.7875\n",
      "Epoch 18/60\n",
      "565/565 [==============================] - 141s 249ms/step - loss: 0.5368 - accuracy: 0.8369 - val_loss: 0.7764 - val_accuracy: 0.7530\n",
      "Epoch 19/60\n",
      "565/565 [==============================] - 142s 251ms/step - loss: 0.5324 - accuracy: 0.8399 - val_loss: 0.7237 - val_accuracy: 0.7716\n",
      "Epoch 20/60\n",
      "565/565 [==============================] - 141s 249ms/step - loss: 0.5241 - accuracy: 0.8458 - val_loss: 0.6705 - val_accuracy: 0.7850\n",
      "Epoch 21/60\n",
      "565/565 [==============================] - 143s 252ms/step - loss: 0.5216 - accuracy: 0.8469 - val_loss: 0.6465 - val_accuracy: 0.8060\n",
      "Epoch 22/60\n",
      "565/565 [==============================] - 141s 250ms/step - loss: 0.5190 - accuracy: 0.8490 - val_loss: 0.6855 - val_accuracy: 0.7925\n",
      "Epoch 23/60\n",
      "565/565 [==============================] - 142s 251ms/step - loss: 0.5140 - accuracy: 0.8518 - val_loss: 0.6681 - val_accuracy: 0.7999\n",
      "Epoch 24/60\n",
      "565/565 [==============================] - 141s 250ms/step - loss: 0.5054 - accuracy: 0.8586 - val_loss: 0.6389 - val_accuracy: 0.8134\n",
      "Epoch 25/60\n",
      "565/565 [==============================] - 142s 251ms/step - loss: 0.5011 - accuracy: 0.8605 - val_loss: 0.7153 - val_accuracy: 0.7885\n",
      "Epoch 26/60\n",
      "565/565 [==============================] - 141s 250ms/step - loss: 0.4976 - accuracy: 0.8643 - val_loss: 0.7926 - val_accuracy: 0.7693\n",
      "Epoch 27/60\n",
      "565/565 [==============================] - 141s 249ms/step - loss: 0.4921 - accuracy: 0.8664 - val_loss: 0.6891 - val_accuracy: 0.7953\n",
      "Epoch 28/60\n",
      "565/565 [==============================] - 140s 247ms/step - loss: 0.4862 - accuracy: 0.8700 - val_loss: 0.8082 - val_accuracy: 0.7621\n",
      "Epoch 29/60\n",
      "565/565 [==============================] - 140s 249ms/step - loss: 0.4799 - accuracy: 0.8720 - val_loss: 0.6641 - val_accuracy: 0.8029\n",
      "Epoch 30/60\n",
      "565/565 [==============================] - 140s 248ms/step - loss: 0.4799 - accuracy: 0.8750 - val_loss: 0.7963 - val_accuracy: 0.7598\n",
      "Epoch 31/60\n",
      "565/565 [==============================] - 141s 249ms/step - loss: 0.4734 - accuracy: 0.8789 - val_loss: 0.7907 - val_accuracy: 0.7685\n",
      "Epoch 32/60\n",
      "565/565 [==============================] - 140s 248ms/step - loss: 0.4673 - accuracy: 0.8830 - val_loss: 0.7451 - val_accuracy: 0.7866\n",
      "Epoch 33/60\n",
      "565/565 [==============================] - 141s 249ms/step - loss: 0.4625 - accuracy: 0.8850 - val_loss: 1.2105 - val_accuracy: 0.6813\n",
      "Epoch 34/60\n",
      "565/565 [==============================] - 140s 248ms/step - loss: 0.4607 - accuracy: 0.8873 - val_loss: 0.6586 - val_accuracy: 0.8184\n",
      "Epoch 35/60\n",
      "565/565 [==============================] - 141s 249ms/step - loss: 0.4584 - accuracy: 0.8878 - val_loss: 0.8040 - val_accuracy: 0.7860\n",
      "Epoch 36/60\n",
      "565/565 [==============================] - 140s 247ms/step - loss: 0.4537 - accuracy: 0.8906 - val_loss: 0.7164 - val_accuracy: 0.8006\n",
      "Epoch 37/60\n",
      "565/565 [==============================] - 140s 248ms/step - loss: 0.4460 - accuracy: 0.8946 - val_loss: 0.7705 - val_accuracy: 0.7869\n",
      "Epoch 38/60\n",
      "565/565 [==============================] - 139s 246ms/step - loss: 0.4420 - accuracy: 0.8971 - val_loss: 0.8252 - val_accuracy: 0.7733\n",
      "Epoch 39/60\n",
      "565/565 [==============================] - 140s 248ms/step - loss: 0.4412 - accuracy: 0.8967 - val_loss: 1.0549 - val_accuracy: 0.7203\n",
      "Epoch 40/60\n",
      "565/565 [==============================] - 139s 247ms/step - loss: 0.4360 - accuracy: 0.9020 - val_loss: 0.8008 - val_accuracy: 0.7861\n",
      "Epoch 41/60\n",
      "565/565 [==============================] - 141s 249ms/step - loss: 0.4351 - accuracy: 0.8999 - val_loss: 0.8761 - val_accuracy: 0.7787\n",
      "Epoch 42/60\n",
      "565/565 [==============================] - 139s 247ms/step - loss: 0.4326 - accuracy: 0.9029 - val_loss: 0.7467 - val_accuracy: 0.7987\n",
      "Epoch 43/60\n",
      "565/565 [==============================] - 141s 249ms/step - loss: 0.4285 - accuracy: 0.9062 - val_loss: 0.8433 - val_accuracy: 0.7816\n",
      "Epoch 44/60\n",
      "565/565 [==============================] - 140s 247ms/step - loss: 0.4238 - accuracy: 0.9081 - val_loss: 0.7526 - val_accuracy: 0.7993\n",
      "Epoch 45/60\n",
      "565/565 [==============================] - 140s 248ms/step - loss: 0.4221 - accuracy: 0.9086 - val_loss: 0.9387 - val_accuracy: 0.7605\n",
      "Epoch 46/60\n",
      "565/565 [==============================] - 140s 247ms/step - loss: 0.4169 - accuracy: 0.9100 - val_loss: 0.7356 - val_accuracy: 0.8064\n",
      "Epoch 47/60\n",
      "565/565 [==============================] - 141s 249ms/step - loss: 0.4148 - accuracy: 0.9138 - val_loss: 1.1440 - val_accuracy: 0.7226\n",
      "Epoch 48/60\n",
      "565/565 [==============================] - 139s 247ms/step - loss: 0.4115 - accuracy: 0.9136 - val_loss: 0.8406 - val_accuracy: 0.7851\n",
      "Epoch 49/60\n",
      "565/565 [==============================] - 140s 248ms/step - loss: 0.4077 - accuracy: 0.9170 - val_loss: 0.8092 - val_accuracy: 0.8008\n",
      "Epoch 50/60\n"
     ]
    },
    {
     "name": "stdout",
     "output_type": "stream",
     "text": [
      "565/565 [==============================] - 139s 246ms/step - loss: 0.4068 - accuracy: 0.9170 - val_loss: 0.8096 - val_accuracy: 0.8009\n",
      "Epoch 51/60\n",
      "565/565 [==============================] - 140s 248ms/step - loss: 0.4016 - accuracy: 0.9193 - val_loss: 0.9242 - val_accuracy: 0.7586\n",
      "Epoch 52/60\n",
      "565/565 [==============================] - 139s 246ms/step - loss: 0.4027 - accuracy: 0.9200 - val_loss: 0.8214 - val_accuracy: 0.7942\n",
      "Epoch 53/60\n",
      "565/565 [==============================] - 140s 248ms/step - loss: 0.3971 - accuracy: 0.9226 - val_loss: 0.7983 - val_accuracy: 0.7963\n",
      "Epoch 54/60\n",
      "565/565 [==============================] - 139s 247ms/step - loss: 0.3958 - accuracy: 0.9217 - val_loss: 0.8046 - val_accuracy: 0.8055\n",
      "Epoch 55/60\n",
      "565/565 [==============================] - 140s 248ms/step - loss: 0.3945 - accuracy: 0.9244 - val_loss: 0.7758 - val_accuracy: 0.8092\n",
      "Epoch 56/60\n",
      "565/565 [==============================] - 139s 246ms/step - loss: 0.3917 - accuracy: 0.9254 - val_loss: 0.8338 - val_accuracy: 0.7899\n",
      "Epoch 57/60\n",
      "565/565 [==============================] - 140s 248ms/step - loss: 0.3883 - accuracy: 0.9266 - val_loss: 0.8279 - val_accuracy: 0.8045\n",
      "Epoch 58/60\n",
      "565/565 [==============================] - 139s 246ms/step - loss: 0.3858 - accuracy: 0.9272 - val_loss: 0.8087 - val_accuracy: 0.8029\n",
      "Epoch 59/60\n",
      "565/565 [==============================] - 140s 248ms/step - loss: 0.3829 - accuracy: 0.9297 - val_loss: 1.0526 - val_accuracy: 0.7628\n",
      "Epoch 60/60\n",
      "565/565 [==============================] - 139s 246ms/step - loss: 0.3829 - accuracy: 0.9300 - val_loss: 0.8313 - val_accuracy: 0.7938\n",
      "Model name: model_0.82_id_3fece\n",
      "0.81838167\n",
      "dict_keys(['loss', 'accuracy', 'val_loss', 'val_accuracy'])\n",
      "{'loss': [10.88667076982071, 2.8060392811022603, 0.8383723215113024, 0.7413970539121119, 0.6934032424059619, 0.6666183331174873, 0.6412700552288061, 0.6290613932014737, 0.6131118697318174, 0.600896225570491, 0.5896147690593465, 0.5798170981606002, 0.5697984837566772, 0.5596020239442386, 0.5592677444251292, 0.5515533722839359, 0.5441425000257623, 0.5361632938402255, 0.532670175198181, 0.5245565644137598, 0.5221111974813999, 0.5190016590241092, 0.5144934554436842, 0.5058594623167255, 0.5012621929920968, 0.49795010453648164, 0.49252167035523786, 0.4856639004444351, 0.4803312211060015, 0.4803804514061668, 0.4727290960167597, 0.46718434324442737, 0.462310782781468, 0.4605129326470278, 0.45815845028397617, 0.45254442209039597, 0.44631976335892043, 0.4423261632877718, 0.440520362087737, 0.43609290372884896, 0.4354904665787434, 0.43302128161595954, 0.42887864808255616, 0.4240541045534366, 0.4223696214071817, 0.41683181409767844, 0.4145558108172428, 0.4114121509844441, 0.4079521150939744, 0.40709612778878096, 0.4007296250941153, 0.4030199452085991, 0.3974740055224784, 0.3956132409894021, 0.3946888397626949, 0.3914873671251851, 0.3886240439675867, 0.3860587606004566, 0.38316747968788306, 0.38305287542355654], 'accuracy': [0.3296752, 0.42574996, 0.6190341, 0.6849337, 0.7217573, 0.7427842, 0.7588292, 0.7699454, 0.78070706, 0.78664637, 0.79540455, 0.804216, 0.8109886, 0.8187717, 0.82104105, 0.8261471, 0.8300298, 0.83690876, 0.8398518, 0.84575564, 0.84692574, 0.84898233, 0.8518013, 0.858627, 0.86050636, 0.86433583, 0.86637473, 0.869956, 0.87195945, 0.87504435, 0.8788561, 0.8830402, 0.88502586, 0.8872598, 0.88779163, 0.8905929, 0.8945642, 0.8970995, 0.8967272, 0.90199274, 0.899883, 0.9028615, 0.90617687, 0.9080739, 0.9085526, 0.9100241, 0.9137827, 0.91364086, 0.91695625, 0.91697395, 0.9193142, 0.9200234, 0.9226119, 0.92165446, 0.9243848, 0.9253599, 0.92658323, 0.927186, 0.92965037, 0.9299518], 'val_loss': [11.357323576368287, 0.8816036917793919, 0.7665008856377131, 0.8396916490205577, 0.7080015030125497, 0.6989588693413936, 0.6557308842598553, 0.6330495149316923, 0.7010727959199691, 0.6438330525243786, 0.6388170920627217, 0.6222217292852805, 0.6263890887649965, 0.6349738433327473, 0.6115112057034399, 0.6565699797700828, 0.6669191522917277, 0.7763896752411211, 0.723720629870052, 0.6705028716946991, 0.6465136005844868, 0.6855232222399241, 0.6680773620454359, 0.6388854669852996, 0.7152889864125722, 0.7925569757189549, 0.6891419364952706, 0.8082104910847167, 0.66413357455126, 0.7962781125810784, 0.7906596912464625, 0.7451239887257697, 1.2105259664461647, 0.6586251674403607, 0.8039770342514548, 0.7164416052925755, 0.7705237559029754, 0.82518124454458, 1.054899471746364, 0.8007770468231658, 0.876149596043036, 0.7467401630022157, 0.8433032564713921, 0.7525675936903752, 0.9386998095982512, 0.7356281389652843, 1.144031381732981, 0.8406154811382294, 0.8091572504228269, 0.8095981300296918, 0.9242140986550023, 0.8213626704585384, 0.7983061457183999, 0.8046390804606425, 0.775836565335032, 0.8338182467809865, 0.827866544396105, 0.8086611979024511, 1.0526484861760073, 0.8312852714263218], 'val_accuracy': [0.2990568, 0.58329195, 0.6691015, 0.673782, 0.72462946, 0.7338487, 0.7576768, 0.7757606, 0.7543437, 0.76930714, 0.7822849, 0.79150414, 0.7914332, 0.7888802, 0.7964683, 0.7837742, 0.7874619, 0.75299627, 0.7716474, 0.78497976, 0.80604213, 0.792497, 0.79994327, 0.8134175, 0.7884547, 0.76930714, 0.7953337, 0.76207364, 0.80285084, 0.75980425, 0.76845616, 0.7866109, 0.6812992, 0.81838167, 0.7860435, 0.8005815, 0.78689456, 0.7733494, 0.72030354, 0.78611445, 0.77866817, 0.7986668, 0.7815758, 0.799305, 0.7605134, 0.8063967, 0.7226438, 0.7850507, 0.80079424, 0.8008652, 0.7585987, 0.794199, 0.7963265, 0.8054748, 0.8091625, 0.78987306, 0.8044819, 0.80285084, 0.76278275, 0.7938444]}\n",
      "[0.8314146254683884, 0.7938444]\n",
      "RESULT:\n",
      "{'loss': -0.818381667137146, 'real_loss': 0.8314146254683884, 'best_val_loss': 0.6115112057034399, 'best_val_accuracy': 0.818381667137146, 'model_name': 'model_0.82_id_3fece', 'space': {'activation': 'elu', 'batch_size': 100.0, 'conv_dropout_drop_proba': 0.3072583126155909, 'conv_hiddn_units_mult': 0.7655612652817378, 'conv_kernel_size': 3.0, 'conv_pool_res_start_idx': 1.0, 'epochs': 60.0, 'fc_dropout_drop_proba': 0.12278806206422954, 'fc_units_1_mult': 0.6510004723476623, 'first_conv': None, 'l2_weight_reg_mult': 0.37747519746406716, 'lr_rate_mult': 1.236441110794273, 'nb_conv_pool_layers': 3, 'one_more_fc': None, 'optimizer': 'RMSprop', 'pooling_type': 'all_conv', 'res_conv_kernel_size': 4.0, 'residual': None, 'use_BN': True}, 'status': 'ok'}\n",
      "{\n",
      "    \"best_val_accuracy\": 0.818381667137146,\n",
      "    \"best_val_loss\": 0.6115112057034399,\n",
      "    \"loss\": -0.818381667137146,\n",
      "    \"model_name\": \"model_0.82_id_3fece\",\n",
      "    \"real_loss\": 0.8314146254683884,\n",
      "    \"space\": {\n",
      "        \"activation\": \"elu\",\n",
      "        \"batch_size\": 100.0,\n",
      "        \"conv_dropout_drop_proba\": 0.3072583126155909,\n",
      "        \"conv_hiddn_units_mult\": 0.7655612652817378,\n",
      "        \"conv_kernel_size\": 3.0,\n",
      "        \"conv_pool_res_start_idx\": 1.0,\n",
      "        \"epochs\": 60.0,\n",
      "        \"fc_dropout_drop_proba\": 0.12278806206422954,\n",
      "        \"fc_units_1_mult\": 0.6510004723476623,\n",
      "        \"first_conv\": null,\n",
      "        \"l2_weight_reg_mult\": 0.37747519746406716,\n",
      "        \"lr_rate_mult\": 1.236441110794273,\n",
      "        \"nb_conv_pool_layers\": 3,\n",
      "        \"one_more_fc\": null,\n",
      "        \"optimizer\": \"RMSprop\",\n",
      "        \"pooling_type\": \"all_conv\",\n",
      "        \"res_conv_kernel_size\": 4.0,\n",
      "        \"residual\": null,\n",
      "        \"use_BN\": true\n",
      "    },\n",
      "    \"status\": \"ok\"\n",
      "}\n"
     ]
    }
   ],
   "source": [
    "model, model_name, results, log_path = build_and_train(\n",
    "        best_space_model,\n",
    "        save_best_weights=True,\n",
    "        log_for_tensorboard=True\n",
    "    )"
   ]
  },
  {
   "cell_type": "code",
   "execution_count": 10,
   "metadata": {},
   "outputs": [],
   "source": [
    "# model_name\n",
    "model_RT_30 = load_model('models/3fece_RT.h5')"
   ]
  },
  {
   "cell_type": "code",
   "execution_count": 11,
   "metadata": {},
   "outputs": [
    {
     "data": {
      "text/plain": [
       "[0.6412968957746351, 0.81838167]"
      ]
     },
     "execution_count": 11,
     "metadata": {},
     "output_type": "execute_result"
    }
   ],
   "source": [
    "y_pred = model_RT_30.predict_generator(test_it)\n",
    "acc = model_RT_30.evaluate_generator(test_it)\n",
    "acc"
   ]
  },
  {
   "cell_type": "code",
   "execution_count": 12,
   "metadata": {},
   "outputs": [
    {
     "name": "stdout",
     "output_type": "stream",
     "text": [
      "              precision    recall  f1-score   support\n",
      "\n",
      "           0       0.89      0.87      0.88      4217\n",
      "           1       0.79      0.82      0.80      4993\n",
      "           2       0.79      0.77      0.78      4891\n",
      "\n",
      "    accuracy                           0.82     14101\n",
      "   macro avg       0.82      0.82      0.82     14101\n",
      "weighted avg       0.82      0.82      0.82     14101\n",
      "\n"
     ]
    }
   ],
   "source": [
    "y_pred = np.argmax(y_pred, axis=1)\n",
    "\n",
    "y_true = h.y_true\n",
    "\n",
    "print(classification_report(y_true, y_pred))"
   ]
  },
  {
   "cell_type": "code",
   "execution_count": 13,
   "metadata": {},
   "outputs": [
    {
     "data": {
      "image/png": "[encoded data removed]",
      "text/plain": [
       "<Figure size 432x288 with 2 Axes>"
      ]
     },
     "metadata": {
      "needs_background": "light"
     },
     "output_type": "display_data"
    }
   ],
   "source": [
    "ax= plt.subplot()\n",
    "sn.heatmap(confusion_matrix(y_true, y_pred, normalize='pred'), \n",
    "           annot=True, fmt='.2g', cmap=cm.Blues, ax = ax, cbar=True)\n",
    "\n",
    "ax.set_xlabel('Predicted labels');ax.set_ylabel('True labels'); \n",
    "ax.set_title('Confusion Matrix'); \n",
    "ax.xaxis.set_ticklabels(['slow', 'fast', 'medium']); ax.yaxis.set_ticklabels(['slow', 'fast', 'medium']);"
   ]
  }
 ],
 "metadata": {
  "kernelspec": {
   "display_name": "Python 3",
   "language": "python",
   "name": "python3"
  },
  "language_info": {
   "codemirror_mode": {
    "name": "ipython",
    "version": 3
   },
   "file_extension": ".py",
   "mimetype": "text/x-python",
   "name": "python",
   "nbconvert_exporter": "python",
   "pygments_lexer": "ipython3",
   "version": "3.7.4"
  }
 },
 "nbformat": 4,
 "nbformat_minor": 2
}
